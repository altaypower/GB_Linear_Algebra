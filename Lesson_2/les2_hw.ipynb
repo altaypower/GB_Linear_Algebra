{
 "cells": [
  {
   "cell_type": "markdown",
   "metadata": {},
   "source": [
    "# Урок_3"
   ]
  },
  {
   "cell_type": "code",
   "execution_count": 2,
   "metadata": {},
   "outputs": [],
   "source": [
    "import numpy as np\n",
    "import scipy.linalg\n"
   ]
  },
  {
   "cell_type": "raw",
   "metadata": {},
   "source": [
    "5*. Написать на Python функцию для перемножения двух произвольных матриц, не используя NumPy."
   ]
  },
  {
   "cell_type": "code",
   "execution_count": 1,
   "metadata": {},
   "outputs": [
    {
     "name": "stdout",
     "output_type": "stream",
     "text": [
      "[[ 84.  90.  96.]\n",
      " [201. 216. 231.]\n",
      " [318. 342. 366.]]\n",
      "[[ 84  90  96]\n",
      " [201 216 231]\n",
      " [318 342 366]]\n"
     ]
    }
   ],
   "source": [
    "\n",
    "def matrix_mult(Matrix_a, Matrix_b):\n",
    "    if len(Matrix_a[0]) == len(Matrix_b):\n",
    "        Matrix_res = np.zeros((len(Matrix_b), len(Matrix_a[0])))\n",
    "        for i in range(len(Matrix_res)):\n",
    "            for j in range(len(Matrix_res[0])):\n",
    "                scalar = []\n",
    "                for _ in range(len(Matrix_b)):\n",
    "                    scalar.append(Matrix_a[i][_]*Matrix_b[_][j])\n",
    "                    Matrix_res[i][j] = sum(scalar)\n",
    "        return Matrix_res\n",
    "    else:\n",
    "        return f\"Длина матрицы { Matrix_a} не соответствует глубине матрицы { Matrix_b}\"\n",
    "\n",
    "\n",
    "Matrix_a = [[1, 2, 3], [4, 5, 6], [7, 8, 9]]\n",
    "Matrix_b = [[10, 11, 12], [13, 14, 15], [16, 17, 18]]\n",
    "Matrix_res = [[0, 0, 0], [0, 0, 0], [0, 0, 0]]\n",
    "print(matrix_mult(Matrix_a, Matrix_b))\n",
    "\n",
    "print(np.dot(Matrix_a, Matrix_b))\n"
   ]
  },
  {
   "cell_type": "code",
   "execution_count": null,
   "metadata": {},
   "outputs": [],
   "source": []
  },
  {
   "cell_type": "raw",
   "metadata": {},
   "source": [
    "1. Установить, какие произведения матриц AB и  BA определены, и найти размерности полученных матриц:"
   ]
  },
  {
   "cell_type": "markdown",
   "metadata": {},
   "source": [
    "а) A — матрица  4x2, B — матрица  4x2; - не определены\n",
    "б) A — матрица 2х5, B — матрица ;5х3  AB определена 2x3\n",
    "в) A — матрица 8х3, B — матрица ;3х8 АВ 8x8 и ВА 3x3 определены\n",
    "г) A — квадратная матрица  4х4, B — квадратная матрица  4х4. АВ и ВА определены 4x4"
   ]
  },
  {
   "cell_type": "code",
   "execution_count": null,
   "metadata": {},
   "outputs": [],
   "source": []
  },
  {
   "cell_type": "markdown",
   "metadata": {},
   "source": [
    "2. Найти сумму и произведение матриц А и  В"
   ]
  },
  {
   "cell_type": "code",
   "execution_count": 3,
   "metadata": {},
   "outputs": [
    {
     "name": "stdout",
     "output_type": "stream",
     "text": [
      "[[ 5 -3]\n",
      " [ 3  5]]\n",
      "[[  4 -11]\n",
      " [ 12  -3]]\n"
     ]
    }
   ],
   "source": [
    "A = np.array([[1, -2], [3, 0]])\n",
    "B = np.array([[4, -1], [0, 5]])\n",
    "\n",
    "print(A+B)\n",
    "print(np.dot(A, B))\n",
    "print(np.dot(B, A))"
   ]
  },
  {
   "cell_type": "code",
   "execution_count": null,
   "metadata": {},
   "outputs": [],
   "source": []
  },
  {
   "cell_type": "markdown",
   "metadata": {},
   "source": [
    "3. Из закономерностей сложения и умножения матриц на число можно сделать вывод, что матрицы одного размера образуют линейное пространство. Вычислить линейную комбинацию  3A -2B+4C  для матриц"
   ]
  },
  {
   "cell_type": "code",
   "execution_count": 6,
   "metadata": {},
   "outputs": [
    {
     "name": "stdout",
     "output_type": "stream",
     "text": [
      "[[ 11  -5]\n",
      " [  9 -12]]\n"
     ]
    }
   ],
   "source": [
    "A = np.array([[1, 7], [3, -6]])\n",
    "B = np.array([[0, 5], [2, -1]])\n",
    "C = np.array([[2, -4], [1, 1]])\n",
    "\n",
    "print(3*A -2*B+4*C)"
   ]
  },
  {
   "cell_type": "code",
   "execution_count": null,
   "metadata": {},
   "outputs": [],
   "source": []
  },
  {
   "cell_type": "markdown",
   "metadata": {},
   "source": [
    "4. Дана матрица A, вычислить:"
   ]
  },
  {
   "cell_type": "code",
   "execution_count": 13,
   "metadata": {},
   "outputs": [
    {
     "name": "stdout",
     "output_type": "stream",
     "text": [
      "[[ 4  5  2]\n",
      " [ 1 -2  3]]\n",
      "[[17 18 11]\n",
      " [18 29  4]\n",
      " [11  4 13]]\n",
      "[[45  0]\n",
      " [ 0 14]]\n"
     ]
    }
   ],
   "source": [
    "A = np.array([[4, 1], [5, -2], [2, 3]])\n",
    "print(A.T)\n",
    "print(np.dot(A, A.T))\n",
    "print(np.dot(A.T, A))"
   ]
  },
  {
   "cell_type": "markdown",
   "metadata": {},
   "source": [
    "квадратные и симметричные"
   ]
  },
  {
   "cell_type": "markdown",
   "metadata": {},
   "source": [
    "# Урок_4"
   ]
  },
  {
   "cell_type": "markdown",
   "metadata": {},
   "source": [
    "1. Вычислить определитель:"
   ]
  },
  {
   "cell_type": "markdown",
   "metadata": {},
   "source": [
    "а)"
   ]
  },
  {
   "cell_type": "markdown",
   "metadata": {},
   "source": [
    "det(\n",
    "sin x     -cos x\n",
    "cos x      sinx\n",
    ") = 1"
   ]
  },
  {
   "cell_type": "markdown",
   "metadata": {},
   "source": [
    "b)"
   ]
  },
  {
   "cell_type": "markdown",
   "metadata": {},
   "source": [
    "det(\n",
    "4    2    3\n",
    "0    5    1\n",
    "0    0    9\n",
    ") = 4*5*9 = 180"
   ]
  },
  {
   "cell_type": "code",
   "execution_count": 5,
   "metadata": {},
   "outputs": [
    {
     "data": {
      "text/plain": [
       "180.0"
      ]
     },
     "execution_count": 5,
     "metadata": {},
     "output_type": "execute_result"
    }
   ],
   "source": [
    "A = np.array([[4, 2, 3], [0, 5, 1], [0, 0, 9]])\n",
    "np.linalg.det(A)"
   ]
  },
  {
   "cell_type": "markdown",
   "metadata": {},
   "source": [
    "c)"
   ]
  },
  {
   "cell_type": "raw",
   "metadata": {},
   "source": [
    "det(1    2    3\n",
    "    4    5    6\n",
    "    7    8    9) =\n",
    "(1-ю строку х 4 и вычесть из 2-й:)\n",
    "det(\n",
    "1    2    3\n",
    "0   -3   -6\n",
    "7    8    9) =\n",
    "(1-ю строку х 7 и вычесть из 3-й:)\n",
    "det(1    2    3\n",
    "    0    -3    -6\n",
    "    0    -6    -12) =\n",
    "(2-ю строку х2 и вычесть из 3-й:)\n",
    "det(1    2    3\n",
    "    0    -3    -6\n",
    "    0    -0    0) = 0"
   ]
  },
  {
   "cell_type": "code",
   "execution_count": 8,
   "metadata": {},
   "outputs": [
    {
     "data": {
      "text/plain": [
       "0.0"
      ]
     },
     "execution_count": 8,
     "metadata": {},
     "output_type": "execute_result"
    }
   ],
   "source": [
    "A = np.array([[1, 2, 3], [4, 5, 6], [7, 8, 9]])\n",
    "round(np.linalg.det(A), 2)"
   ]
  },
  {
   "cell_type": "markdown",
   "metadata": {},
   "source": [
    "2. Определитель матрицы A равен 4. Найти:"
   ]
  },
  {
   "cell_type": "markdown",
   "metadata": {},
   "source": [
    "a)"
   ]
  },
  {
   "cell_type": "markdown",
   "metadata": {},
   "source": [
    "det(A**2) = det(A)*det(A)=16"
   ]
  },
  {
   "cell_type": "markdown",
   "metadata": {},
   "source": [
    "b)"
   ]
  },
  {
   "cell_type": "markdown",
   "metadata": {},
   "source": [
    "det(A**T) = det(A) = 4"
   ]
  },
  {
   "cell_type": "markdown",
   "metadata": {},
   "source": [
    "c)"
   ]
  },
  {
   "cell_type": "markdown",
   "metadata": {},
   "source": [
    "det(2*A) (Разберем на примере)"
   ]
  },
  {
   "cell_type": "raw",
   "metadata": {},
   "source": [
    "исходя из свойства определителей №10:\n",
    "det(\n",
    "2х1    2х2\n",
    "2х3    2х4)\n",
    "=\n",
    "det(\n",
    "1    2\n",
    "2х3  2х4)\n",
    "+\n",
    "det(\n",
    "1    2\n",
    "2х3  2х4)\n",
    "=\n",
    "det(\n",
    "1    2\n",
    "3    4)\n",
    "+\n",
    "det(\n",
    "1    2\n",
    "3    4)\n",
    "+\n",
    "det(\n",
    "1    2\n",
    "3    4)\n",
    "+\n",
    "det(\n",
    "1    2\n",
    "3    4)"
   ]
  },
  {
   "cell_type": "markdown",
   "metadata": {},
   "source": [
    "Следовательно det(2*A) = 4*2**n (где n это размер матрицы)"
   ]
  },
  {
   "cell_type": "markdown",
   "metadata": {},
   "source": [
    "3. Доказать, что матрица вырожденная"
   ]
  },
  {
   "cell_type": "markdown",
   "metadata": {},
   "source": [
    "det(\n",
    "    −2    7    -3\n",
    "    4    -14    6\n",
    "    −3    7    13\n",
    ") =\n",
    "(умножаю 1-ю строку на 2 и плюсую ко 2-й строке)\n",
    "det(\n",
    "     −2    7    -3\n",
    "     0    0     0\n",
    "    −3    7    13\n",
    ") = 0"
   ]
  },
  {
   "cell_type": "markdown",
   "metadata": {},
   "source": [
    "4. Найти ранг матрицы:"
   ]
  },
  {
   "cell_type": "code",
   "execution_count": 4,
   "metadata": {},
   "outputs": [
    {
     "data": {
      "text/plain": [
       "2"
      ]
     },
     "execution_count": 4,
     "metadata": {},
     "output_type": "execute_result"
    }
   ],
   "source": [
    "A = np.array([[1, 2, 3], [1, 1, 1], [2, 3, 4]])\n",
    "np.linalg.matrix_rank(A)"
   ]
  },
  {
   "cell_type": "markdown",
   "metadata": {},
   "source": [
    "rank(\n",
    "    1, 2, 3\n",
    "    1, 1, 1\n",
    "    2, 3, 4\n",
    ") =\n",
    "rank(\n",
    "    1, 2, 3\n",
    "    1, 1, 1\n",
    ") = \n",
    "rank(\n",
    "    1, 2, 3\n",
    "    0,-1,-2\n",
    ") = 2"
   ]
  },
  {
   "cell_type": "code",
   "execution_count": null,
   "metadata": {},
   "outputs": [],
   "source": [
    "3-я строка явпяется суммой 1-й и 2-й)"
   ]
  }
 ],
 "metadata": {
  "kernelspec": {
   "display_name": "Python 3",
   "language": "python",
   "name": "python3"
  },
  "language_info": {
   "codemirror_mode": {
    "name": "ipython",
    "version": 3
   },
   "file_extension": ".py",
   "mimetype": "text/x-python",
   "name": "python",
   "nbconvert_exporter": "python",
   "pygments_lexer": "ipython3",
   "version": "3.8.5"
  }
 },
 "nbformat": 4,
 "nbformat_minor": 4
}
